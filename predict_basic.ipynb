{
 "cells": [
  {
   "cell_type": "code",
   "execution_count": 1,
   "metadata": {},
   "outputs": [],
   "source": [
    "from ultralytics import YOLO\n",
    "import cv2"
   ]
  },
  {
   "cell_type": "code",
   "execution_count": 2,
   "metadata": {},
   "outputs": [],
   "source": [
    "model = YOLO(\"fkg_model.pt\")"
   ]
  },
  {
   "cell_type": "code",
   "execution_count": 10,
   "metadata": {},
   "outputs": [],
   "source": [
    "cap = cv2.VideoCapture(1)  #SET ACCOURDING TO YOUR WEBCAM\n",
    "last_frames = [set()]\n",
    "try:\n",
    "    while cap.isOpened():\n",
    "        _ , frame = cap.read()\n",
    "        results = model.predict(frame,iou=0.3,verbose=False)\n",
    "        box = results[0].boxes\n",
    "        \n",
    "        persist = last_frames[0].intersection(*last_frames)\n",
    "        \n",
    "        for b,l in zip(box.xyxy, box.cls):\n",
    "            if l.item() not in persist:\n",
    "                continue\n",
    "            label = results[0].names[l.item()]\n",
    "            boundary = b.int().tolist()\n",
    "            frame = cv2.rectangle(frame, boundary[:2], boundary[2:], (0, 255, 0), 2)\n",
    "            frame = cv2.putText(frame, label, boundary[:2], cv2.FONT_HERSHEY_SIMPLEX, 1, (0,255,0), 2, cv2.LINE_AA)\n",
    "                \n",
    "                \n",
    "        if len(last_frames) > 2:\n",
    "            last_frames.pop(0)\n",
    "        last_frames.append(set(box.cls.tolist()))\n",
    "\n",
    "        cv2.imshow(\"frame\", frame)\n",
    "        if cv2.waitKey(1) & 0xFF == ord('q'):\n",
    "            break\n",
    "finally:\n",
    "    cap.release()\n",
    "    cv2.destroyAllWindows()"
   ]
  },
  {
   "cell_type": "code",
   "execution_count": null,
   "metadata": {},
   "outputs": [],
   "source": []
  }
 ],
 "metadata": {
  "kernelspec": {
   "display_name": "Python 3",
   "language": "python",
   "name": "python3"
  },
  "language_info": {
   "codemirror_mode": {
    "name": "ipython",
    "version": 3
   },
   "file_extension": ".py",
   "mimetype": "text/x-python",
   "name": "python",
   "nbconvert_exporter": "python",
   "pygments_lexer": "ipython3",
   "version": "3.11.6"
  }
 },
 "nbformat": 4,
 "nbformat_minor": 2
}
